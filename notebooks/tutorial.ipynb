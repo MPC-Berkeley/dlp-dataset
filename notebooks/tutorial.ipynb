{
 "cells": [
  {
   "cell_type": "markdown",
   "metadata": {},
   "source": [
    "# Dragon Lake Parking (DLP) Dataset\n",
    "\n",
    "This notebook walks through usage of the Parking Dataset API."
   ]
  },
  {
   "cell_type": "markdown",
   "metadata": {},
   "source": [
    "### Setup\n",
    "\n",
    "The `load()` method loads all JSON files for a scene. In this example, we are loading:\n",
    "\n",
    "- `data/DJI_0001_frames.json`\n",
    "- `data/DJI_0001_agents.json`\n",
    "- `data/DJI_0001_instances.json`\n",
    "- `data/DJI_0001_obstacles.json`\n",
    "- `data/DJI_0001_scene.json`"
   ]
  },
  {
   "cell_type": "code",
   "execution_count": 1,
   "metadata": {},
   "outputs": [],
   "source": [
    "from dlp.dataset import Dataset\n",
    "\n",
    "ds = Dataset()\n",
    "ds.load('../data/DJI_0012')"
   ]
  },
  {
   "cell_type": "markdown",
   "metadata": {},
   "source": [
    "### Scenes\n",
    "\n",
    "We can use `list_scenes()` to obtain a list of tokens corresponding to scenes that have been loaded."
   ]
  },
  {
   "cell_type": "code",
   "execution_count": 2,
   "metadata": {},
   "outputs": [
    {
     "data": {
      "text/plain": [
       "['66045def24565e370dff814aa01e8ffed07318b9']"
      ]
     },
     "execution_count": 2,
     "metadata": {},
     "output_type": "execute_result"
    }
   ],
   "source": [
    "all_scenes = ds.list_scenes()\n",
    "all_scenes"
   ]
  },
  {
   "cell_type": "markdown",
   "metadata": {},
   "source": [
    "Use `get()` to look up a data object by its token."
   ]
  },
  {
   "cell_type": "code",
   "execution_count": 3,
   "metadata": {},
   "outputs": [
    {
     "name": "stdout",
     "output_type": "stream",
     "text": [
      "Keys: dict_keys(['scene_token', 'filename', 'timestamp', 'first_frame', 'last_frame', 'agents', 'obstacles'])\n",
      "Scene_token: 66045def24565e370dff814aa01e8ffed07318b9\n",
      "filename: DJI_0012\n",
      "timestamp: 2020-08-08 10:08:03\n",
      "first_frame: 840d7356e46973280c5e71d628fc3b240bfd040a\n",
      "last_frame: 989b3f56582cdc1af8b1a5a51693bd83327851c9\n",
      "agents (preview): ['a1b3619e3bc68c3de29af54ba9ff3de96c7de3dc', '44bcb749f3901204f4aba6e35615f5e026d7c4cc']\n",
      "obstacles (preview): ['02778fb4cafec30d01ba4e59a8eb53f19c3b9c86', '8d08ec553539276f33cba6aa12eed8fc07371672']\n"
     ]
    }
   ],
   "source": [
    "scene_token = all_scenes[0]\n",
    "scene = ds.get('scene', scene_token)\n",
    "print(\"Keys:\", scene.keys())\n",
    "print(\"Scene_token:\", scene['scene_token'])\n",
    "print(\"filename:\", scene['filename'])\n",
    "print(\"timestamp:\", scene['timestamp'])\n",
    "print(\"first_frame:\", scene['first_frame'])\n",
    "print(\"last_frame:\", scene['last_frame'])\n",
    "print(\"agents (preview):\", scene['agents'][:2])\n",
    "print(\"obstacles (preview):\", scene['obstacles'][:2])"
   ]
  },
  {
   "cell_type": "markdown",
   "metadata": {},
   "source": [
    "### Frames\n",
    "\n",
    "Let's look at the first frame in the scene:"
   ]
  },
  {
   "cell_type": "code",
   "execution_count": 4,
   "metadata": {},
   "outputs": [
    {
     "name": "stdout",
     "output_type": "stream",
     "text": [
      "Keys: dict_keys(['frame_token', 'scene_token', 'timestamp', 'prev', 'next', 'instances'])\n",
      "frame_token: 840d7356e46973280c5e71d628fc3b240bfd040a\n",
      "scene_token: 66045def24565e370dff814aa01e8ffed07318b9\n",
      "timestamp: 0.0\n",
      "instances (preview): ['0a72735ac3b5f6f50bfa50ad8e91ac3e40277854', 'f7db24901446b67361768323726b312db36b0f36']\n"
     ]
    }
   ],
   "source": [
    "frame_token = scene['first_frame']\n",
    "frame = ds.get('frame', frame_token)\n",
    "print(\"Keys:\", frame.keys())\n",
    "print(\"frame_token:\", frame['frame_token'])\n",
    "print(\"scene_token:\", frame['scene_token'])\n",
    "print(\"timestamp:\", frame['timestamp'])\n",
    "print(\"instances (preview):\", frame['instances'][:2])"
   ]
  },
  {
   "cell_type": "markdown",
   "metadata": {},
   "source": [
    "We can use the `get_frame_at_time()` method to get the frame at a certian time. The specified time to query can be any float value (in secs) within the total length of the video, and the method will return the closet frame towards that time. The example below returns the frame at about 15.00s of the video. "
   ]
  },
  {
   "cell_type": "code",
   "execution_count": 5,
   "metadata": {},
   "outputs": [
    {
     "name": "stdout",
     "output_type": "stream",
     "text": [
      "Keys: dict_keys(['frame_token', 'scene_token', 'timestamp', 'prev', 'next', 'instances'])\n",
      "frame_token: eb2ef77677af5b7ff0407fbe3da726e34c753e0e\n",
      "scene_token: 66045def24565e370dff814aa01e8ffed07318b9\n",
      "timestamp: 15.0\n",
      "instances (preview): ['84a6e130a4416de716ea54c632362f633dcdf58d', '56896ce286c1836f8579c977f65d938119e561b1']\n"
     ]
    }
   ],
   "source": [
    "frame = ds.get_frame_at_time(scene_token, 15)\n",
    "print(\"Keys:\", frame.keys())\n",
    "print(\"frame_token:\", frame['frame_token'])\n",
    "print(\"scene_token:\", frame['scene_token'])\n",
    "print(\"timestamp:\", frame['timestamp'])\n",
    "print(\"instances (preview):\", frame['instances'][:2])"
   ]
  },
  {
   "cell_type": "markdown",
   "metadata": {},
   "source": [
    "We can use the `get_future_frames()` or `get_past_frames()` methods look at a specified number of preceding/subsequent frames. The example below returns a list containing the given frame and the next 5 frames."
   ]
  },
  {
   "cell_type": "code",
   "execution_count": 6,
   "metadata": {},
   "outputs": [
    {
     "name": "stdout",
     "output_type": "stream",
     "text": [
      "Keys: dict_keys(['frame_token', 'scene_token', 'timestamp', 'prev', 'next', 'instances'])\n"
     ]
    }
   ],
   "source": [
    "future_frames = ds.get_future_frames(frame_token, timesteps=5)\n",
    "print(\"Keys:\", future_frames[0].keys())"
   ]
  },
  {
   "cell_type": "markdown",
   "metadata": {},
   "source": [
    "### Agents\n",
    "\n",
    "Now let's look at an agent:"
   ]
  },
  {
   "cell_type": "code",
   "execution_count": 7,
   "metadata": {},
   "outputs": [
    {
     "data": {
      "text/plain": [
       "{'agent_token': 'a1b3619e3bc68c3de29af54ba9ff3de96c7de3dc',\n",
       " 'scene_token': '66045def24565e370dff814aa01e8ffed07318b9',\n",
       " 'type': 'Car',\n",
       " 'size': [4.7048, 1.8778],\n",
       " 'first_instance': '0a72735ac3b5f6f50bfa50ad8e91ac3e40277854',\n",
       " 'last_instance': 'f1479898cad572acaabc6f4c3aa90d21030cb89a'}"
      ]
     },
     "execution_count": 7,
     "metadata": {},
     "output_type": "execute_result"
    }
   ],
   "source": [
    "agent_token = scene['agents'][0]\n",
    "agent = ds.get('agent', agent_token)\n",
    "agent"
   ]
  },
  {
   "cell_type": "markdown",
   "metadata": {},
   "source": [
    "Use `get_agent_instances()` to see all instances of an agent in the scene."
   ]
  },
  {
   "cell_type": "code",
   "execution_count": 8,
   "metadata": {},
   "outputs": [
    {
     "name": "stdout",
     "output_type": "stream",
     "text": [
      "Keys: dict_keys(['instance_token', 'agent_token', 'frame_token', 'coords', 'heading', 'speed', 'acceleration', 'mode', 'prev', 'next'])\n",
      "coords: [88.55000000004657, 63.47999999998137]\n",
      "heading: 1.328607346410207\n",
      "speed: 0.23\n",
      "acceleration: [0.0056, 0.0089]\n",
      "mode: \n",
      "prev: \n",
      "next: 2e40de975f5ec83c4831c54f8cb58275785a3ea8\n"
     ]
    }
   ],
   "source": [
    "agent_instances = ds.get_agent_instances(agent_token)\n",
    "\n",
    "print(\"Keys:\", agent_instances[0].keys())\n",
    "print(\"coords:\", agent_instances[0]['coords'])\n",
    "print(\"heading:\", agent_instances[0]['heading'])\n",
    "print(\"speed:\", agent_instances[0]['speed'])\n",
    "print(\"acceleration:\", agent_instances[0]['acceleration'])\n",
    "print(\"mode:\", agent_instances[0]['mode'])\n",
    "print(\"prev:\", agent_instances[0]['prev'])\n",
    "print(\"next:\", agent_instances[0]['next'])"
   ]
  },
  {
   "cell_type": "markdown",
   "metadata": {},
   "source": [
    "### Instances\n",
    "\n",
    "This is the last instance of our agent in the scene:"
   ]
  },
  {
   "cell_type": "code",
   "execution_count": 9,
   "metadata": {},
   "outputs": [
    {
     "data": {
      "text/plain": [
       "{'instance_token': 'f1479898cad572acaabc6f4c3aa90d21030cb89a',\n",
       " 'agent_token': 'a1b3619e3bc68c3de29af54ba9ff3de96c7de3dc',\n",
       " 'frame_token': '989b3f56582cdc1af8b1a5a51693bd83327851c9',\n",
       " 'coords': [87.81000000005588, 58.43000000016764],\n",
       " 'heading': 1.535607346410207,\n",
       " 'speed': 0.0,\n",
       " 'acceleration': [0.0, 0.0],\n",
       " 'mode': '',\n",
       " 'prev': '17df17632f8e8533b7b17052ee97a2e3cd2b3385',\n",
       " 'next': ''}"
      ]
     },
     "execution_count": 9,
     "metadata": {},
     "output_type": "execute_result"
    }
   ],
   "source": [
    "instance_token = agent['last_instance']\n",
    "instance = ds.get('instance', instance_token)\n",
    "instance"
   ]
  },
  {
   "cell_type": "markdown",
   "metadata": {},
   "source": [
    "We can search for the closest instance at a certain location with `get_inst_at_location()` method:"
   ]
  },
  {
   "cell_type": "code",
   "execution_count": 10,
   "metadata": {},
   "outputs": [
    {
     "data": {
      "text/plain": [
       "{'instance_token': '0a72735ac3b5f6f50bfa50ad8e91ac3e40277854',\n",
       " 'agent_token': 'a1b3619e3bc68c3de29af54ba9ff3de96c7de3dc',\n",
       " 'frame_token': '840d7356e46973280c5e71d628fc3b240bfd040a',\n",
       " 'coords': [88.55000000004657, 63.47999999998137],\n",
       " 'heading': 1.328607346410207,\n",
       " 'speed': 0.23,\n",
       " 'acceleration': [0.0056, 0.0089],\n",
       " 'mode': '',\n",
       " 'prev': '',\n",
       " 'next': '2e40de975f5ec83c4831c54f8cb58275785a3ea8'}"
      ]
     },
     "execution_count": 10,
     "metadata": {},
     "output_type": "execute_result"
    }
   ],
   "source": [
    "closest_instance = ds.get_inst_at_location(frame_token, [90, 65])\n",
    "closest_instance"
   ]
  },
  {
   "cell_type": "markdown",
   "metadata": {},
   "source": [
    "We can use the `get_agent_future()` or `get_agent_past()` methods to look at a specified number of future/past instances of this agent. The example below returns a list containing the previous 5 instances along with the given instance."
   ]
  },
  {
   "cell_type": "code",
   "execution_count": 11,
   "metadata": {},
   "outputs": [
    {
     "name": "stdout",
     "output_type": "stream",
     "text": [
      "Keys: dict_keys(['instance_token', 'agent_token', 'frame_token', 'coords', 'heading', 'speed', 'acceleration', 'mode', 'prev', 'next'])\n",
      "coords: [87.81000000005588, 58.43000000016764]\n",
      "heading: 1.535607346410207\n",
      "speed: 0.0\n",
      "acceleration: [0.0, 0.0]\n",
      "mode: \n",
      "prev: 42ec0e2ae2f53abff3e32421c8f5447ea5e70bc1\n",
      "next: 062e10ea3c98e641ca0f8e49892e13ebcd363e29\n"
     ]
    }
   ],
   "source": [
    "past_instances = ds.get_agent_past(instance_token, timesteps=5)\n",
    "\n",
    "print(\"Keys:\", past_instances[0].keys())\n",
    "print(\"coords:\", past_instances[0]['coords'])\n",
    "print(\"heading:\", past_instances[0]['heading'])\n",
    "print(\"speed:\", past_instances[0]['speed'])\n",
    "print(\"acceleration:\", past_instances[0]['acceleration'])\n",
    "print(\"mode:\", past_instances[0]['mode'])\n",
    "print(\"prev:\", past_instances[0]['prev'])\n",
    "print(\"next:\", past_instances[0]['next'])"
   ]
  },
  {
   "cell_type": "markdown",
   "metadata": {},
   "source": [
    "By default, the speed value in the instance is the absolute value. To obtain the \"signed\" speed so that it is negative when vehicle is backing up, use `signed_speed()` function"
   ]
  },
  {
   "cell_type": "code",
   "execution_count": 12,
   "metadata": {},
   "outputs": [
    {
     "name": "stdout",
     "output_type": "stream",
     "text": [
      "signed_speed: -0.0\n"
     ]
    }
   ],
   "source": [
    "signed_speed = ds.signed_speed(inst_token=instance_token)\n",
    "print('signed_speed:', signed_speed)"
   ]
  },
  {
   "cell_type": "markdown",
   "metadata": {},
   "source": [
    "Besides a list of future instances, it is also possible to get an Tx4 numpy array as the vehicle's future trajectory"
   ]
  },
  {
   "cell_type": "code",
   "execution_count": 13,
   "metadata": {},
   "outputs": [
    {
     "name": "stdout",
     "output_type": "stream",
     "text": [
      "[[87.81       58.43        1.53560735 -0.        ]]\n"
     ]
    }
   ],
   "source": [
    "future_traj = ds.get_future_traj(inst_token=instance_token)\n",
    "print(future_traj)"
   ]
  },
  {
   "cell_type": "markdown",
   "metadata": {},
   "source": [
    "An instance will have one of the stree modes:\n",
    "* 'parked': if the current instance is just static inside a parking spot\n",
    "* 'outgoing`: if the currrent instance is on the way towards the exit\n",
    "* 'incoming`: if the current instance is searching for a parking spot\n",
    "* 'unclear`: we cannot tell the vehicle's intent given the data recording\n",
    "\n",
    "The `get_inst_mode()` function will not only return the mode of the specified instance, but also write the mode into the instance object for later use"
   ]
  },
  {
   "cell_type": "code",
   "execution_count": 14,
   "metadata": {},
   "outputs": [
    {
     "name": "stdout",
     "output_type": "stream",
     "text": [
      "returned mode: parked\n"
     ]
    },
    {
     "data": {
      "text/plain": [
       "{'instance_token': 'f1479898cad572acaabc6f4c3aa90d21030cb89a',\n",
       " 'agent_token': 'a1b3619e3bc68c3de29af54ba9ff3de96c7de3dc',\n",
       " 'frame_token': '989b3f56582cdc1af8b1a5a51693bd83327851c9',\n",
       " 'coords': [87.81000000005588, 58.43000000016764],\n",
       " 'heading': 1.535607346410207,\n",
       " 'speed': 0.0,\n",
       " 'acceleration': [0.0, 0.0],\n",
       " 'mode': 'parked',\n",
       " 'prev': '17df17632f8e8533b7b17052ee97a2e3cd2b3385',\n",
       " 'next': ''}"
      ]
     },
     "execution_count": 14,
     "metadata": {},
     "output_type": "execute_result"
    }
   ],
   "source": [
    "mode = ds.get_inst_mode(inst_token=instance_token)\n",
    "print('returned mode:', mode)\n",
    "instance"
   ]
  },
  {
   "cell_type": "markdown",
   "metadata": {},
   "source": [
    "### Obstacles\n",
    "\n",
    "The obstacles are the vehicles which stays static all the time in its scene"
   ]
  },
  {
   "cell_type": "code",
   "execution_count": 15,
   "metadata": {},
   "outputs": [
    {
     "name": "stdout",
     "output_type": "stream",
     "text": [
      "obstacles (preview): ['02778fb4cafec30d01ba4e59a8eb53f19c3b9c86', '8d08ec553539276f33cba6aa12eed8fc07371672', '49d7b7d2ac181f8b114f21d8d31dab3e314ccc45']\n"
     ]
    }
   ],
   "source": [
    "print(\"obstacles (preview):\", scene['obstacles'][:3])"
   ]
  },
  {
   "cell_type": "markdown",
   "metadata": {},
   "source": [
    "We can use the `get()` method to obtain each obstacle. Each obstacle contains the token of itself, the token of its scene, the type of this obstacle, the size of its bounding box, the center coordinates, and the heading angle"
   ]
  },
  {
   "cell_type": "code",
   "execution_count": 16,
   "metadata": {},
   "outputs": [
    {
     "name": "stdout",
     "output_type": "stream",
     "text": [
      "{'obstacle_token': '02778fb4cafec30d01ba4e59a8eb53f19c3b9c86', 'scene_token': '66045def24565e370dff814aa01e8ffed07318b9', 'type': 'Bus', 'size': [10.5271, 3.0816], 'coords': [132.93999999994412, 55.31999999983236], 'heading': -1.5545926535897931}\n"
     ]
    }
   ],
   "source": [
    "obstacle = ds.get('obstacle', scene['obstacles'][0])\n",
    "print(obstacle)"
   ]
  }
 ],
 "metadata": {
  "interpreter": {
   "hash": "aee8b7b246df8f9039afb4144a1f6fd8d2ca17a180786b69acc140d282b71a49"
  },
  "kernelspec": {
   "display_name": "Python 3.9.0 64-bit",
   "name": "python3"
  },
  "language_info": {
   "codemirror_mode": {
    "name": "ipython",
    "version": 3
   },
   "file_extension": ".py",
   "mimetype": "text/x-python",
   "name": "python",
   "nbconvert_exporter": "python",
   "pygments_lexer": "ipython3",
   "version": "3.8.10"
  }
 },
 "nbformat": 4,
 "nbformat_minor": 2
}
